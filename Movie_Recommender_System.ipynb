{
  "nbformat": 4,
  "nbformat_minor": 0,
  "metadata": {
    "colab": {
      "provenance": [],
      "authorship_tag": "ABX9TyN2TueARz7+QV1v/GGoXmmT",
      "include_colab_link": true
    },
    "kernelspec": {
      "name": "python3",
      "display_name": "Python 3"
    },
    "language_info": {
      "name": "python"
    }
  },
  "cells": [
    {
      "cell_type": "markdown",
      "metadata": {
        "id": "view-in-github",
        "colab_type": "text"
      },
      "source": [
        "<a href=\"https://colab.research.google.com/github/Melckykaisha/Movie_recommender_system/blob/main/Movie_Recommender_System.ipynb\" target=\"_parent\"><img src=\"https://colab.research.google.com/assets/colab-badge.svg\" alt=\"Open In Colab\"/></a>"
      ]
    },
    {
      "cell_type": "markdown",
      "source": [
        "1.Load Movies data set"
      ],
      "metadata": {
        "id": "8oo1EWjaH1Ia"
      }
    },
    {
      "cell_type": "code",
      "execution_count": 4,
      "metadata": {
        "colab": {
          "base_uri": "https://localhost:8080/"
        },
        "id": "rPeKwW4kGQML",
        "outputId": "a6c3039a-c2ca-420f-dca5-d54eaf9deae4"
      },
      "outputs": [
        {
          "output_type": "stream",
          "name": "stdout",
          "text": [
            "   movie_id              title release_date  video_release_date  \\\n",
            "0         1   Toy Story (1995)  01-Jan-1995                 NaN   \n",
            "1         2   GoldenEye (1995)  01-Jan-1995                 NaN   \n",
            "2         3  Four Rooms (1995)  01-Jan-1995                 NaN   \n",
            "3         4  Get Shorty (1995)  01-Jan-1995                 NaN   \n",
            "4         5     Copycat (1995)  01-Jan-1995                 NaN   \n",
            "\n",
            "                                            IMDb_URL  unknown  Action  \\\n",
            "0  http://us.imdb.com/M/title-exact?Toy%20Story%2...        0       0   \n",
            "1  http://us.imdb.com/M/title-exact?GoldenEye%20(...        0       1   \n",
            "2  http://us.imdb.com/M/title-exact?Four%20Rooms%...        0       0   \n",
            "3  http://us.imdb.com/M/title-exact?Get%20Shorty%...        0       1   \n",
            "4  http://us.imdb.com/M/title-exact?Copycat%20(1995)        0       0   \n",
            "\n",
            "   Adventure  Animation  Children  ...  Fantasy  Film-Noir  Horror  Musical  \\\n",
            "0          0          1         1  ...        0          0       0        0   \n",
            "1          1          0         0  ...        0          0       0        0   \n",
            "2          0          0         0  ...        0          0       0        0   \n",
            "3          0          0         0  ...        0          0       0        0   \n",
            "4          0          0         0  ...        0          0       0        0   \n",
            "\n",
            "   Mystery  Romance  Sci-Fi  Thriller  War  Western  \n",
            "0        0        0       0         0    0        0  \n",
            "1        0        0       0         1    0        0  \n",
            "2        0        0       0         1    0        0  \n",
            "3        0        0       0         0    0        0  \n",
            "4        0        0       0         1    0        0  \n",
            "\n",
            "[5 rows x 24 columns]\n"
          ]
        }
      ],
      "source": [
        "import pandas as pd\n",
        "\n",
        "# Load movies (u.item is pipe-delimited)\n",
        "movies = pd.read_csv(\n",
        "    \"ml-100k/u.item\",\n",
        "    sep=\"|\",\n",
        "    encoding=\"latin-1\",   # prevents encoding issues\n",
        "    header=None\n",
        ")\n",
        "\n",
        "# We Assign column names manually (since file has no header)\n",
        "movies.columns = [\n",
        "    \"movie_id\", \"title\", \"release_date\", \"video_release_date\", \"IMDb_URL\",\n",
        "    \"unknown\", \"Action\", \"Adventure\", \"Animation\", \"Children\", \"Comedy\", \"Crime\",\n",
        "    \"Documentary\", \"Drama\", \"Fantasy\", \"Film-Noir\", \"Horror\", \"Musical\", \"Mystery\",\n",
        "    \"Romance\", \"Sci-Fi\", \"Thriller\", \"War\", \"Western\"\n",
        "]\n",
        "\n",
        "print(movies.head())"
      ]
    },
    {
      "cell_type": "markdown",
      "source": [
        "2.Combine Genres into a String\n",
        "\n",
        "This way, each movie has a single text feature (good for TF-IDF)."
      ],
      "metadata": {
        "id": "86xoBWEkJYIk"
      }
    },
    {
      "cell_type": "code",
      "source": [
        "# Select genre columns\n",
        "genre_cols = [\"Action\",\"Adventure\",\"Animation\",\"Children\",\"Comedy\",\"Crime\",\n",
        "              \"Documentary\",\"Drama\",\"Fantasy\",\"Film-Noir\",\"Horror\",\"Musical\",\n",
        "              \"Mystery\",\"Romance\",\"Sci-Fi\",\"Thriller\",\"War\",\"Western\"]\n",
        "\n",
        "# Combine genres into a single string\n",
        "def get_genres(row):\n",
        "    genres = [g for g in genre_cols if row[g] == 1]\n",
        "    return \" \".join(genres)\n",
        "\n",
        "movies[\"genre_str\"] = movies.apply(get_genres, axis=1)\n",
        "print(movies[[\"title\", \"genre_str\"]].head(10))\n"
      ],
      "metadata": {
        "colab": {
          "base_uri": "https://localhost:8080/"
        },
        "id": "C2A9zJUSJiV_",
        "outputId": "a112b452-e2e4-4727-9f47-7942b41b5982"
      },
      "execution_count": 5,
      "outputs": [
        {
          "output_type": "stream",
          "name": "stdout",
          "text": [
            "                                               title  \\\n",
            "0                                   Toy Story (1995)   \n",
            "1                                   GoldenEye (1995)   \n",
            "2                                  Four Rooms (1995)   \n",
            "3                                  Get Shorty (1995)   \n",
            "4                                     Copycat (1995)   \n",
            "5  Shanghai Triad (Yao a yao yao dao waipo qiao) ...   \n",
            "6                              Twelve Monkeys (1995)   \n",
            "7                                        Babe (1995)   \n",
            "8                            Dead Man Walking (1995)   \n",
            "9                                 Richard III (1995)   \n",
            "\n",
            "                   genre_str  \n",
            "0  Animation Children Comedy  \n",
            "1  Action Adventure Thriller  \n",
            "2                   Thriller  \n",
            "3        Action Comedy Drama  \n",
            "4       Crime Drama Thriller  \n",
            "5                      Drama  \n",
            "6               Drama Sci-Fi  \n",
            "7      Children Comedy Drama  \n",
            "8                      Drama  \n",
            "9                  Drama War  \n"
          ]
        }
      ]
    },
    {
      "cell_type": "markdown",
      "source": [
        "3.Create TF-IDF Vectors\n",
        "\n",
        "Now we treat the genres as a text corpus."
      ],
      "metadata": {
        "id": "8p9D43ESKdIA"
      }
    },
    {
      "cell_type": "code",
      "source": [
        "from sklearn.feature_extraction.text import TfidfVectorizer\n",
        "\n",
        "# Vectorize genre strings\n",
        "tfidf = TfidfVectorizer(stop_words=\"english\")\n",
        "tfidf_matrix = tfidf.fit_transform(movies[\"genre_str\"])\n",
        "\n",
        "print(\"TF-IDF shape:\", tfidf_matrix.shape)\n"
      ],
      "metadata": {
        "colab": {
          "base_uri": "https://localhost:8080/"
        },
        "id": "4jpXM-5eKrqC",
        "outputId": "cd5cd345-6915-44c2-c3c7-0f9bce227b69"
      },
      "execution_count": 6,
      "outputs": [
        {
          "output_type": "stream",
          "name": "stdout",
          "text": [
            "TF-IDF shape: (1682, 20)\n"
          ]
        }
      ]
    },
    {
      "cell_type": "markdown",
      "source": [
        "4 .Compute Similarity"
      ],
      "metadata": {
        "id": "Ehh4b5ONK51z"
      }
    },
    {
      "cell_type": "code",
      "source": [
        "from sklearn.metrics.pairwise import linear_kernel\n",
        "\n",
        "# Compute the cosine similarity matrix\n",
        "cosine_sim = linear_kernel(tfidf_matrix, tfidf_matrix)\n",
        "\n",
        "# Reset index for easy lookup\n",
        "indices = pd.Series(movies.index, index=movies[\"title\"]).drop_duplicates()\n",
        "\n",
        "def recommend(title, n=5):\n",
        "    # Get index of the movie\n",
        "    idx = indices[title]\n",
        "\n",
        "    # Get similarity scores for this movie\n",
        "    sim_scores = list(enumerate(cosine_sim[idx]))\n",
        "\n",
        "    # Sort movies by similarity score\n",
        "    sim_scores = sorted(sim_scores, key=lambda x: x[1], reverse=True)\n",
        "\n",
        "    # Take top n+1 (exclude itself)\n",
        "    sim_scores = sim_scores[1:n+1]\n",
        "\n",
        "    # Get movie indices\n",
        "    movie_indices = [i[0] for i in sim_scores]\n",
        "\n",
        "    return movies[\"title\"].iloc[movie_indices]\n",
        "\n",
        "# Example\n",
        "print(recommend(\"Toy Story (1995)\", n=5))"
      ],
      "metadata": {
        "colab": {
          "base_uri": "https://localhost:8080/"
        },
        "id": "rq977lmtK5PQ",
        "outputId": "dbe482ae-17dc-40b0-d036-94b1dcacafcb"
      },
      "execution_count": 8,
      "outputs": [
        {
          "output_type": "stream",
          "name": "stdout",
          "text": [
            "421    Aladdin and the King of Thieves (1996)\n",
            "101                    Aristocats, The (1970)\n",
            "403                          Pinocchio (1940)\n",
            "624            Sword in the Stone, The (1963)\n",
            "945             Fox and the Hound, The (1981)\n",
            "Name: title, dtype: object\n"
          ]
        }
      ]
    },
    {
      "cell_type": "markdown",
      "source": [
        "Note:\n",
        "👉 From here, we can polish it (e.g., add descriptions/tags, use embeddings instead of just genres).For it is just genre-based but from our data set we can also extend it to use tags (u.data + u.genre + tags) for richer recommendations"
      ],
      "metadata": {
        "id": "CWEMa6LHLxVe"
      }
    }
  ]
}